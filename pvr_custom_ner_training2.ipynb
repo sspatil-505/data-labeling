{
 "cells": [
  {
   "cell_type": "code",
   "execution_count": 1,
   "metadata": {},
   "outputs": [],
   "source": [
    "import json\n",
    "import spacy\n"
   ]
  },
  {
   "cell_type": "code",
   "execution_count": 2,
   "metadata": {},
   "outputs": [],
   "source": [
    "# load the training data\n",
    "with open('pvr_training_data.json',encoding='utf8') as fp:\n",
    "  training_data = json.load(fp)"
   ]
  },
  {
   "cell_type": "code",
   "execution_count": 3,
   "metadata": {},
   "outputs": [
    {
     "data": {
      "text/plain": [
       "{'classes': ['NAME',\n",
       "  'COMPANY',\n",
       "  'ROLE',\n",
       "  'PERCENTAGE',\n",
       "  'WEEKDAY',\n",
       "  'MONEY',\n",
       "  'TIME PERIOD',\n",
       "  'STATES'],\n",
       " 'annotations': [['The share price of PVR rose over 7 percent on Wednesday after the multiplex chain said that it has reduced losses in Q2 despite nil revenue from the core movie exhibition business.',\n",
       "   {'entities': [[19, 22, 'COMPANY'],\n",
       "     [33, 42, 'PERCENTAGE'],\n",
       "     [46, 55, 'WEEKDAY']]}],\n",
       "  ['The company managed to get rent waivers from most landlords, CFO Nitin Sood said in an interview to CNBC-TV18. “The big focus for us right now as revenues have been nil is to really reduce our fixed cost and we have managed to do that, ” he added.',\n",
       "   {'entities': [[61, 64, 'ROLE'], [65, 75, 'NAME']]}],\n",
       "  ['Sood further said that they have brought down the fixed cost down by almost 75-80 percent.',\n",
       "   {'entities': [[0, 4, 'NAME'], [76, 89, 'PERCENTAGE']]}],\n",
       "  [\"The stock rose as much as 7.6 percent to the day's high of Rs 1,186.85 per share on the BSE.\",\n",
       "   {'entities': [[26, 37, 'PERCENTAGE'],\n",
       "     [59, 70, 'PERCENTAGE'],\n",
       "     [88, 91, 'COMPANY']]}],\n",
       "  ['Meanwhile, for the September quarter, the company reported a consolidated net loss of Rs 184.06 crore versus a net profit of Rs 47.67 crore in the year ago quarter.',\n",
       "   {'entities': [[86, 101, 'MONEY'], [125, 139, 'MONEY']]}],\n",
       "  ['', {'entities': []}],\n",
       "  [\"Its total income was at Rs 110.61 crore during the quarter under review against Rs 979.40 crore in the corresponding quarter last fiscal. PVR's total expenses were at Rs 389.37 crore in July-September 2020-21.\",\n",
       "   {'entities': [[24, 39, 'MONEY'],\n",
       "     [80, 95, 'MONEY'],\n",
       "     [117, 137, 'TIME PERIOD'],\n",
       "     [138, 141, 'COMPANY'],\n",
       "     [167, 182, 'MONEY'],\n",
       "     [186, 208, 'TIME PERIOD']]}],\n",
       "  ['\" Financial performance of the company for Q2, FY 21 was impacted by the continued lockdown announced due to COVID-19 outbreak, which disrupted the company\\'s operations, \" said PVR in a post-earnings statement.',\n",
       "   {'entities': [[42, 44, 'TIME PERIOD'], [46, 51, 'TIME PERIOD']]}],\n",
       "  ['PVR said its results were not comparable as business was impacted due to temporary closures of cinemas.',\n",
       "   {'entities': []}],\n",
       "  ['', {'entities': []}],\n",
       "  ['Under Unlock 5.0 guidelines, the government has permitted cinemas to reopen October 15 onwards with 50 percent capacity. So far , 16 states and UTs, where PVR has a presence, have permitted cinemas to restart operations. Out of total of 831 screens of the company, over 575 have received permission to reopen, it said.',\n",
       "   {'entities': [[76, 86, 'TIME PERIOD'],\n",
       "     [100, 110, 'PERCENTAGE'],\n",
       "     [154, 157, 'COMPANY']]}],\n",
       "  ['PVR Ltd Chairman cum Managing Director Ajay Bijli said: \" We are eagerly waiting for the reopening of other states, specifically Maharashtra and Telangana so that business can gradually get back to normal. We are taking all possible precautions so that both our customers and employees feel safe while visiting their favourite cinema . \"',\n",
       "   {'entities': [[8, 16, 'ROLE'],\n",
       "     [21, 38, 'ROLE'],\n",
       "     [39, 49, 'NAME'],\n",
       "     [128, 139, 'ROLE'],\n",
       "     [144, 153, 'ROLE']]}]]}"
      ]
     },
     "execution_count": 3,
     "metadata": {},
     "output_type": "execute_result"
    }
   ],
   "source": [
    "training_data"
   ]
  },
  {
   "cell_type": "code",
   "execution_count": 4,
   "metadata": {},
   "outputs": [
    {
     "data": {
      "text/plain": [
       "<spacy.pipeline.ner.EntityRecognizer at 0x2beec98f1c0>"
      ]
     },
     "execution_count": 4,
     "metadata": {},
     "output_type": "execute_result"
    }
   ],
   "source": [
    "# prepare an empty model to train\n",
    "nlp = spacy.blank('en')\n",
    "nlp.vocab.vectors.name = 'demo'\n",
    "ner = nlp.create_pipe('ner')\n",
    "nlp.add_pipe('ner', last=True)"
   ]
  },
  {
   "cell_type": "code",
   "execution_count": 5,
   "metadata": {},
   "outputs": [
    {
     "name": "stdout",
     "output_type": "stream",
     "text": [
      "NAME\n",
      "COMPANY\n",
      "ROLE\n",
      "PERCENTAGE\n",
      "WEEKDAY\n",
      "MONEY\n",
      "TIME PERIOD\n",
      "STATES\n"
     ]
    }
   ],
   "source": [
    "# Add the custome NER Tags as entities into the model\n",
    "for label in training_data[\"classes\"]:\n",
    "    print(label)\n",
    "    ner.add_label(label)"
   ]
  },
  {
   "cell_type": "code",
   "execution_count": 6,
   "metadata": {},
   "outputs": [],
   "source": [
    "# Train the model\n",
    "optimizer = nlp.begin_training()\n"
   ]
  },
  {
   "cell_type": "code",
   "execution_count": 7,
   "metadata": {},
   "outputs": [
    {
     "data": {
      "text/plain": [
       "[['The share price of PVR rose over 7 percent on Wednesday after the multiplex chain said that it has reduced losses in Q2 despite nil revenue from the core movie exhibition business.',\n",
       "  {'entities': [[19, 22, 'COMPANY'],\n",
       "    [33, 42, 'PERCENTAGE'],\n",
       "    [46, 55, 'WEEKDAY']]}],\n",
       " ['The company managed to get rent waivers from most landlords, CFO Nitin Sood said in an interview to CNBC-TV18. “The big focus for us right now as revenues have been nil is to really reduce our fixed cost and we have managed to do that, ” he added.',\n",
       "  {'entities': [[61, 64, 'ROLE'], [65, 75, 'NAME']]}],\n",
       " ['Sood further said that they have brought down the fixed cost down by almost 75-80 percent.',\n",
       "  {'entities': [[0, 4, 'NAME'], [76, 89, 'PERCENTAGE']]}],\n",
       " [\"The stock rose as much as 7.6 percent to the day's high of Rs 1,186.85 per share on the BSE.\",\n",
       "  {'entities': [[26, 37, 'PERCENTAGE'],\n",
       "    [59, 70, 'PERCENTAGE'],\n",
       "    [88, 91, 'COMPANY']]}],\n",
       " ['Meanwhile, for the September quarter, the company reported a consolidated net loss of Rs 184.06 crore versus a net profit of Rs 47.67 crore in the year ago quarter.',\n",
       "  {'entities': [[86, 101, 'MONEY'], [125, 139, 'MONEY']]}],\n",
       " ['', {'entities': []}],\n",
       " [\"Its total income was at Rs 110.61 crore during the quarter under review against Rs 979.40 crore in the corresponding quarter last fiscal. PVR's total expenses were at Rs 389.37 crore in July-September 2020-21.\",\n",
       "  {'entities': [[24, 39, 'MONEY'],\n",
       "    [80, 95, 'MONEY'],\n",
       "    [117, 137, 'TIME PERIOD'],\n",
       "    [138, 141, 'COMPANY'],\n",
       "    [167, 182, 'MONEY'],\n",
       "    [186, 208, 'TIME PERIOD']]}],\n",
       " ['\" Financial performance of the company for Q2, FY 21 was impacted by the continued lockdown announced due to COVID-19 outbreak, which disrupted the company\\'s operations, \" said PVR in a post-earnings statement.',\n",
       "  {'entities': [[42, 44, 'TIME PERIOD'], [46, 51, 'TIME PERIOD']]}],\n",
       " ['PVR said its results were not comparable as business was impacted due to temporary closures of cinemas.',\n",
       "  {'entities': []}],\n",
       " ['', {'entities': []}],\n",
       " ['Under Unlock 5.0 guidelines, the government has permitted cinemas to reopen October 15 onwards with 50 percent capacity. So far , 16 states and UTs, where PVR has a presence, have permitted cinemas to restart operations. Out of total of 831 screens of the company, over 575 have received permission to reopen, it said.',\n",
       "  {'entities': [[76, 86, 'TIME PERIOD'],\n",
       "    [100, 110, 'PERCENTAGE'],\n",
       "    [154, 157, 'COMPANY']]}],\n",
       " ['PVR Ltd Chairman cum Managing Director Ajay Bijli said: \" We are eagerly waiting for the reopening of other states, specifically Maharashtra and Telangana so that business can gradually get back to normal. We are taking all possible precautions so that both our customers and employees feel safe while visiting their favourite cinema . \"',\n",
       "  {'entities': [[8, 16, 'ROLE'],\n",
       "    [21, 38, 'ROLE'],\n",
       "    [39, 49, 'NAME'],\n",
       "    [128, 139, 'ROLE'],\n",
       "    [144, 153, 'ROLE']]}]]"
      ]
     },
     "execution_count": 7,
     "metadata": {},
     "output_type": "execute_result"
    }
   ],
   "source": [
    "training_data[\"annotations\"]"
   ]
  },
  {
   "cell_type": "code",
   "execution_count": 8,
   "metadata": {},
   "outputs": [],
   "source": [
    "\n",
    "from spacy.tokens import Doc, Span\n",
    "from spacy.training import Example"
   ]
  },
  {
   "cell_type": "code",
   "execution_count": 9,
   "metadata": {},
   "outputs": [
    {
     "name": "stderr",
     "output_type": "stream",
     "text": [
      "D:\\Users\\Lenovo\\anaconda3\\lib\\site-packages\\spacy\\training\\iob_utils.py:139: UserWarning: [W030] Some entities could not be aligned in the text \"\" Financial performance of the company for Q2, FY ...\" with entities \"[[42, 44, 'TIME PERIOD'], [46, 51, 'TIME PERIOD']]\". Use `spacy.training.offsets_to_biluo_tags(nlp.make_doc(text), entities)` to check the alignment. Misaligned entities ('-') will be ignored during training.\n",
      "  warnings.warn(\n",
      "D:\\Users\\Lenovo\\anaconda3\\lib\\site-packages\\spacy\\training\\iob_utils.py:139: UserWarning: [W030] Some entities could not be aligned in the text \"Under Unlock 5.0 guidelines, the government has pe...\" with entities \"[[76, 86, 'TIME PERIOD'], [100, 110, 'PERCENTAGE']...\". Use `spacy.training.offsets_to_biluo_tags(nlp.make_doc(text), entities)` to check the alignment. Misaligned entities ('-') will be ignored during training.\n",
      "  warnings.warn(\n",
      "D:\\Users\\Lenovo\\anaconda3\\lib\\site-packages\\spacy\\training\\iob_utils.py:139: UserWarning: [W030] Some entities could not be aligned in the text \"PVR Ltd Chairman cum Managing Director Ajay Bijli ...\" with entities \"[[8, 16, 'ROLE'], [21, 38, 'ROLE'], [39, 49, 'NAME...\". Use `spacy.training.offsets_to_biluo_tags(nlp.make_doc(text), entities)` to check the alignment. Misaligned entities ('-') will be ignored during training.\n",
      "  warnings.warn(\n"
     ]
    }
   ],
   "source": [
    "for iter in range(50):\n",
    "    for text, annotations in training_data[\"annotations\"]:\n",
    "        if len(text) > 0:\n",
    "            example=Example.from_dict(nlp.make_doc(text), annotations)\n",
    "            nlp.update([example], sgd=optimizer)"
   ]
  },
  {
   "cell_type": "code",
   "execution_count": 16,
   "metadata": {},
   "outputs": [],
   "source": [
    "text=\"PVR share price rose over 7% today despite the firm reporting a consolidated net loss of Rs 184.06 crore in Q2 as the film exhibition business remained affected by coronavirus-related restrictions. The movie exhibitor had posted a net profit of Rs 47.67 crore in the July-September quarter a year ago.\""
   ]
  },
  {
   "cell_type": "code",
   "execution_count": 17,
   "metadata": {},
   "outputs": [
    {
     "data": {
      "text/plain": [
       "'PVR share price rose over 7% today despite the firm reporting a consolidated net loss of Rs 184.06 crore in Q2 as the film exhibition business remained affected by coronavirus-related restrictions. The movie exhibitor had posted a net profit of Rs 47.67 crore in the July-September quarter a year ago.'"
      ]
     },
     "execution_count": 17,
     "metadata": {},
     "output_type": "execute_result"
    }
   ],
   "source": [
    "text"
   ]
  },
  {
   "cell_type": "code",
   "execution_count": 18,
   "metadata": {},
   "outputs": [],
   "source": [
    "doc=nlp(text)"
   ]
  },
  {
   "cell_type": "code",
   "execution_count": 19,
   "metadata": {},
   "outputs": [
    {
     "name": "stdout",
     "output_type": "stream",
     "text": [
      "7% PERCENTAGE\n",
      "Rs 184.06 crore MONEY\n",
      "Rs 47.67 crore MONEY\n",
      "July-September quarter a year ago TIME PERIOD\n"
     ]
    }
   ],
   "source": [
    "for ent in doc.ents:\n",
    "    print(ent.text,ent.label_)"
   ]
  },
  {
   "cell_type": "code",
   "execution_count": null,
   "metadata": {},
   "outputs": [],
   "source": []
  },
  {
   "cell_type": "code",
   "execution_count": null,
   "metadata": {},
   "outputs": [],
   "source": []
  },
  {
   "cell_type": "code",
   "execution_count": null,
   "metadata": {},
   "outputs": [],
   "source": []
  },
  {
   "cell_type": "code",
   "execution_count": null,
   "metadata": {},
   "outputs": [],
   "source": []
  },
  {
   "cell_type": "code",
   "execution_count": null,
   "metadata": {},
   "outputs": [],
   "source": []
  },
  {
   "cell_type": "code",
   "execution_count": null,
   "metadata": {},
   "outputs": [],
   "source": []
  },
  {
   "cell_type": "code",
   "execution_count": null,
   "metadata": {},
   "outputs": [],
   "source": []
  },
  {
   "cell_type": "code",
   "execution_count": null,
   "metadata": {},
   "outputs": [],
   "source": []
  }
 ],
 "metadata": {
  "kernelspec": {
   "display_name": "Python 3",
   "language": "python",
   "name": "python3"
  },
  "language_info": {
   "codemirror_mode": {
    "name": "ipython",
    "version": 3
   },
   "file_extension": ".py",
   "mimetype": "text/x-python",
   "name": "python",
   "nbconvert_exporter": "python",
   "pygments_lexer": "ipython3",
   "version": "3.8.5"
  }
 },
 "nbformat": 4,
 "nbformat_minor": 2
}
